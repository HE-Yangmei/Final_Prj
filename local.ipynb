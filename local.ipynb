{
  "nbformat": 4,
  "nbformat_minor": 0,
  "metadata": {
    "colab": {
      "name": "local.ipynb",
      "version": "0.3.2",
      "provenance": [],
      "collapsed_sections": [],
      "include_colab_link": true
    },
    "kernelspec": {
      "name": "python3",
      "display_name": "Python 3"
    },
    "accelerator": "GPU"
  },
  "cells": [
    {
      "cell_type": "markdown",
      "metadata": {
        "id": "view-in-github",
        "colab_type": "text"
      },
      "source": [
        "<a href=\"https://colab.research.google.com/github/HE-Yangmei/Final_Prj/blob/master/local.ipynb\" target=\"_parent\"><img src=\"https://colab.research.google.com/assets/colab-badge.svg\" alt=\"Open In Colab\"/></a>"
      ]
    },
    {
      "metadata": {
        "id": "xf3-x6ovTNpA",
        "colab_type": "code",
        "colab": {}
      },
      "cell_type": "code",
      "source": [
        "!apt-get install -y -qq software-properties-common python-software-properties module-init-tools\n",
        "!add-apt-repository -y ppa:alessandro-strada/ppa 2>&1 > /dev/null\n",
        "!apt-get update -qq 2>&1 > /dev/null\n",
        "!apt-get -y install -qq google-drive-ocamlfuse fuse\n",
        "from google.colab import auth\n",
        "auth.authenticate_user()\n",
        "from oauth2client.client import GoogleCredentials\n",
        "creds = GoogleCredentials.get_application_default()\n",
        "import getpass\n",
        "!google-drive-ocamlfuse -headless -id={creds.client_id} -secret={creds.client_secret} < /dev/null 2>&1 | grep URL\n",
        "vcode = getpass.getpass()\n",
        "!echo {vcode} | google-drive-ocamlfuse -headless -id={creds.client_id} -secret={creds.client_secret}"
      ],
      "execution_count": 0,
      "outputs": []
    },
    {
      "metadata": {
        "id": "k0u7qCHfpMjv",
        "colab_type": "code",
        "outputId": "3331283c-471e-487b-ecba-34788d921a3d",
        "colab": {
          "base_uri": "https://localhost:8080/",
          "height": 52
        }
      },
      "cell_type": "code",
      "source": [
        "!mkdir -p drive\n",
        "!google-drive-ocamlfuse drive"
      ],
      "execution_count": 0,
      "outputs": [
        {
          "output_type": "stream",
          "text": [
            "fuse: mountpoint is not empty\n",
            "fuse: if you are sure this is safe, use the 'nonempty' mount option\n"
          ],
          "name": "stdout"
        }
      ]
    },
    {
      "metadata": {
        "id": "GvF2y_YCUAdt",
        "colab_type": "code",
        "colab": {}
      },
      "cell_type": "code",
      "source": [
        "!git clone https://github.com/affinelayer/pix2pix-tensorflow.git"
      ],
      "execution_count": 0,
      "outputs": []
    },
    {
      "metadata": {
        "id": "dyVkVs6PT02V",
        "colab_type": "code",
        "outputId": "108da47a-51ba-4dcb-c2fd-2f27d5d254f2",
        "colab": {
          "base_uri": "https://localhost:8080/",
          "height": 191
        }
      },
      "cell_type": "code",
      "source": [
        "!ls"
      ],
      "execution_count": 0,
      "outputs": [
        {
          "output_type": "stream",
          "text": [
            "checkpoint\t\t\t       pix2pix_diy-10000.index\n",
            "drive\t\t\t\t       pix2pix_diy-10000.meta\n",
            "Loss10000.png\t\t\t       pix2pix_diy-1000.data-00000-of-00001\n",
            "Loss1000.png\t\t\t       pix2pix_diy-1000.index\n",
            "Loss.png\t\t\t       pix2pix_diy-1000.meta\n",
            "photos\t\t\t\t       pix2pix-tensorflow\n",
            "pix2pix_CGAN.ipynb\t\t       samples\n",
            "pix2pix_diy-100000.index\t       train\n",
            "pix2pix_diy-100000.meta\t\t       val\n",
            "pix2pix_diy-10000.data-00000-of-00001\n"
          ],
          "name": "stdout"
        }
      ]
    },
    {
      "metadata": {
        "id": "3UJKJhvyTVEf",
        "colab_type": "code",
        "outputId": "b70e7881-9c6b-4132-c24e-5ffcea09a2a0",
        "colab": {
          "base_uri": "https://localhost:8080/",
          "height": 69
        }
      },
      "cell_type": "code",
      "source": [
        "## !python pix2pix-tensorflow/tools/download-dataset.py facades"
      ],
      "execution_count": 0,
      "outputs": [
        {
          "output_type": "stream",
          "text": [
            "downloading https://people.eecs.berkeley.edu/~tinghuiz/projects/pix2pix/datasets/facades.tar.gz\n",
            "extracting\n",
            "done\n"
          ],
          "name": "stdout"
        }
      ]
    },
    {
      "metadata": {
        "id": "15Yjuk1OjCe4",
        "colab_type": "code",
        "outputId": "fb517cfc-b1ee-4f6d-d8e9-308d0828dcf7",
        "colab": {
          "base_uri": "https://localhost:8080/",
          "height": 35
        }
      },
      "cell_type": "code",
      "source": [
        "!python pix2pix-tensorflow/pix2pix.py \\\n",
        "  --mode train \\\n",
        "  --output_dir drive/Colab Notebooks/pix2pix/photos/model \\\n",
        "  --max_epochs 200 \\\n",
        "  --input_dir drive/Colab Notebooks/pix2pix/photos/data/train \\\n",
        "  --lab_colorization"
      ],
      "execution_count": 0,
      "outputs": [
        {
          "output_type": "stream",
          "text": [
            "python3: can't open file 'pix2pix-tensorflow/pix2pix.py': [Errno 2] No such file or directory\n"
          ],
          "name": "stdout"
        }
      ]
    },
    {
      "metadata": {
        "id": "j7Ttbzl4b7kt",
        "colab_type": "code",
        "colab": {}
      },
      "cell_type": "code",
      "source": [
        "saver = tf.train.Saver()\n",
        "saver.save(sess, './pix2pix_', global_step=80000)"
      ],
      "execution_count": 0,
      "outputs": []
    },
    {
      "metadata": {
        "id": "Wx4Ly8DkboMu",
        "colab_type": "text"
      },
      "cell_type": "markdown",
      "source": [
        "查看训练细节，可是这个查看时间是与训练时间一样长"
      ]
    },
    {
      "metadata": {
        "id": "1KSYO5KubmBM",
        "colab_type": "code",
        "colab": {}
      },
      "cell_type": "code",
      "source": [
        "!tensorboard --logdir=pix2pix-tensorflow/facades_train"
      ],
      "execution_count": 0,
      "outputs": []
    },
    {
      "metadata": {
        "id": "mTpiUCMEma-3",
        "colab_type": "text"
      },
      "cell_type": "markdown",
      "source": [
        "测试的时候会自动写入一个html"
      ]
    },
    {
      "metadata": {
        "id": "pFdtLeKbXSAr",
        "colab_type": "code",
        "colab": {}
      },
      "cell_type": "code",
      "source": [
        "!python pix2pix.py \n",
        "  --mode test \\\n",
        "  --output_dir photos/test \\\n",
        "  --input_dir photos/data/test \\\n",
        "  --checkpoint photos/model"
      ],
      "execution_count": 0,
      "outputs": []
    },
    {
      "metadata": {
        "id": "6YMNCOUxv7Xx",
        "colab_type": "code",
        "colab": {}
      },
      "cell_type": "code",
      "source": [
        "# Download a file based on its file ID.\n",
        "#\n",
        "# A file ID looks like: laggVyWshwcyP6kEI-y_W3P8D26sz\n",
        "file_id = 'pix2pix-tensorflow/facades_train'\n",
        "downloaded = drive.CreateFile({'id': file_id})\n",
        "print('Downloaded content \"{}\"'.format(downloaded.GetContentString()))"
      ],
      "execution_count": 0,
      "outputs": []
    }
  ]
}