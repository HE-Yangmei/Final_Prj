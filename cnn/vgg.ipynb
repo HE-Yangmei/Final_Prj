{
  "nbformat": 4,
  "nbformat_minor": 0,
  "metadata": {
    "colab": {
      "name": "vgg.ipynb",
      "version": "0.3.2",
      "provenance": [],
      "include_colab_link": true
    },
    "kernelspec": {
      "name": "python3",
      "display_name": "Python 3"
    },
    "accelerator": "GPU"
  },
  "cells": [
    {
      "cell_type": "markdown",
      "metadata": {
        "id": "view-in-github",
        "colab_type": "text"
      },
      "source": [
        "<a href=\"https://colab.research.google.com/github/HE-Yangmei/Final_Prj/blob/master/cnn/vgg.ipynb\" target=\"_parent\"><img src=\"https://colab.research.google.com/assets/colab-badge.svg\" alt=\"Open In Colab\"/></a>"
      ]
    },
    {
      "metadata": {
        "id": "HgwT1BL4v6hf",
        "colab_type": "code",
        "outputId": "d5918ee2-d430-41a4-ebe8-1e73b5e95588",
        "colab": {
          "base_uri": "https://localhost:8080/",
          "height": 228
        }
      },
      "cell_type": "code",
      "source": [
        "!apt-get install -y -qq software-properties-common python-software-properties module-init-tools\n",
        "!add-apt-repository -y ppa:alessandro-strada/ppa 2>&1 > /dev/null\n",
        "!apt-get update -qq 2>&1 > /dev/null\n",
        "!apt-get -y install -qq google-drive-ocamlfuse fuse\n",
        "from google.colab import auth\n",
        "auth.authenticate_user()\n",
        "from oauth2client.client import GoogleCredentials\n",
        "creds = GoogleCredentials.get_application_default()\n",
        "import getpass\n",
        "!google-drive-ocamlfuse -headless -id={creds.client_id} -secret={creds.client_secret} < /dev/null 2>&1 | grep URL\n",
        "vcode = getpass.getpass()\n",
        "!echo {vcode} | google-drive-ocamlfuse -headless -id={creds.client_id} -secret={creds.client_secret}\n",
        "\n"
      ],
      "execution_count": 0,
      "outputs": [
        {
          "output_type": "stream",
          "text": [
            "E: Package 'python-software-properties' has no installation candidate\n",
            "Selecting previously unselected package google-drive-ocamlfuse.\n",
            "(Reading database ... 131323 files and directories currently installed.)\n",
            "Preparing to unpack .../google-drive-ocamlfuse_0.7.1-0ubuntu3~ubuntu18.04.1_amd64.deb ...\n",
            "Unpacking google-drive-ocamlfuse (0.7.1-0ubuntu3~ubuntu18.04.1) ...\n",
            "Setting up google-drive-ocamlfuse (0.7.1-0ubuntu3~ubuntu18.04.1) ...\n",
            "Processing triggers for man-db (2.8.3-2ubuntu0.1) ...\n",
            "Please, open the following URL in a web browser: https://accounts.google.com/o/oauth2/auth?client_id=32555940559.apps.googleusercontent.com&redirect_uri=urn%3Aietf%3Awg%3Aoauth%3A2.0%3Aoob&scope=https%3A%2F%2Fwww.googleapis.com%2Fauth%2Fdrive&response_type=code&access_type=offline&approval_prompt=force\n",
            "··········\n",
            "Please, open the following URL in a web browser: https://accounts.google.com/o/oauth2/auth?client_id=32555940559.apps.googleusercontent.com&redirect_uri=urn%3Aietf%3Awg%3Aoauth%3A2.0%3Aoob&scope=https%3A%2F%2Fwww.googleapis.com%2Fauth%2Fdrive&response_type=code&access_type=offline&approval_prompt=force\n",
            "Please enter the verification code: Access token retrieved correctly.\n"
          ],
          "name": "stdout"
        }
      ]
    },
    {
      "metadata": {
        "id": "A-Y1iCAWwenQ",
        "colab_type": "code",
        "colab": {
          "base_uri": "https://localhost:8080/",
          "height": 52
        },
        "outputId": "9ffb8a95-3023-4381-8bdf-89bf54bba6e7"
      },
      "cell_type": "code",
      "source": [
        "!mkdir -p drive\n",
        "!google-drive-ocamlfuse drive"
      ],
      "execution_count": 3,
      "outputs": [
        {
          "output_type": "stream",
          "text": [
            "fuse: mountpoint is not empty\n",
            "fuse: if you are sure this is safe, use the 'nonempty' mount option\n"
          ],
          "name": "stdout"
        }
      ]
    },
    {
      "metadata": {
        "id": "-vvh3Ubawjqt",
        "colab_type": "code",
        "colab": {}
      },
      "cell_type": "code",
      "source": [
        "import os\n",
        "os.chdir(\"drive/Colab_Notebooks\") \n",
        "os.chdir(\"final_prj/CNN\")"
      ],
      "execution_count": 0,
      "outputs": []
    },
    {
      "metadata": {
        "id": "qqBDWLXDShbJ",
        "colab_type": "code",
        "colab": {
          "base_uri": "https://localhost:8080/",
          "height": 260
        },
        "outputId": "d3790286-7c78-434b-a2d6-5c1147d87dc9"
      },
      "cell_type": "code",
      "source": [
        "!ls"
      ],
      "execution_count": 5,
      "outputs": [
        {
          "output_type": "stream",
          "text": [
            "content\t\t\t      rose__at_iteration_0.png\n",
            "drive\t\t\t      rose__at_iteration_1.png\n",
            "imagenet-vgg-verydeep-19.mat  rose__at_iteration_2.png\n",
            "jssc__at_iteration_0.png      rose__at_iteration_3.png\n",
            "jssc__at_iteration_1.png      rose__at_iteration_4.png\n",
            "jssc__at_iteration_2.png      rose__at_iteration_5.png\n",
            "jssc__at_iteration_3.png      rose__at_iteration_6.png\n",
            "jssc__at_iteration_4.png      rose__at_iteration_7.png\n",
            "jssc__at_iteration_5.png      rose__at_iteration_8.png\n",
            "jssc__at_iteration_6.png      rose__at_iteration_9.png\n",
            "jssc__at_iteration_7.png      style\n",
            "jssc__at_iteration_8.png      transfer.ipynb\n",
            "jssc__at_iteration_9.png      vgg.ipynb\n",
            "output\n"
          ],
          "name": "stdout"
        }
      ]
    },
    {
      "metadata": {
        "id": "naREMKpbwk6y",
        "colab_type": "code",
        "colab": {}
      },
      "cell_type": "code",
      "source": [
        "import tensorflow as tf\n",
        "import numpy as np\n",
        "import scipy.io\n",
        "import scipy.misc\n",
        "import os\n",
        "import time\n",
        "\n",
        "def the_current_time():\n",
        "\tprint(time.strftime(\"%Y-%m-%d %H:%M:%S\", time.localtime(int(time.time()))))"
      ],
      "execution_count": 0,
      "outputs": []
    },
    {
      "metadata": {
        "id": "qW8x3iEgxIUG",
        "colab_type": "code",
        "colab": {}
      },
      "cell_type": "code",
      "source": [
        "CONTENT_IMG = 'content/peony.jpg'\n",
        "STYLE_IMG = 'style/peony.jpg'\n",
        "OUTPUT_DIR = 'output/'\n",
        "\n",
        "if not os.path.exists(OUTPUT_DIR):\n",
        "\tos.mkdir(OUTPUT_DIR)\n",
        "\n",
        "IMAGE_W = 800\n",
        "IMAGE_H = 600\n",
        "COLOR_C = 3\n",
        "\n",
        "NOISE_RATIO = 0.7\n",
        "BETA = 5\n",
        "ALPHA = 100\n",
        "VGG_MODEL = 'imagenet-vgg-verydeep-19.mat'\n",
        "MEAN_VALUES = np.array([123.68, 116.779, 103.939]).reshape((1, 1, 1, 3))"
      ],
      "execution_count": 0,
      "outputs": []
    },
    {
      "metadata": {
        "id": "azMAbsTqyuBC",
        "colab_type": "text"
      },
      "cell_type": "markdown",
      "source": [
        "## 加载VGG模型"
      ]
    },
    {
      "metadata": {
        "id": "3Db5rEdTxLo5",
        "colab_type": "code",
        "colab": {}
      },
      "cell_type": "code",
      "source": [
        "def load_vgg_model(path):\n",
        "\t'''\n",
        "\tDetails of the VGG19 model:\n",
        "\t- 0 is conv1_1 (3, 3, 3, 64)\n",
        "\t- 1 is relu\n",
        "\t- 2 is conv1_2 (3, 3, 64, 64)\n",
        "\t- 3 is relu    \n",
        "\t- 4 is maxpool\n",
        "\t- 5 is conv2_1 (3, 3, 64, 128)\n",
        "\t- 6 is relu\n",
        "\t- 7 is conv2_2 (3, 3, 128, 128)\n",
        "\t- 8 is relu\n",
        "\t- 9 is maxpool\n",
        "\t- 10 is conv3_1 (3, 3, 128, 256)\n",
        "\t- 11 is relu\n",
        "\t- 12 is conv3_2 (3, 3, 256, 256)\n",
        "\t- 13 is relu\n",
        "\t- 14 is conv3_3 (3, 3, 256, 256)\n",
        "\t- 15 is relu\n",
        "\t- 16 is conv3_4 (3, 3, 256, 256)\n",
        "\t- 17 is relu\n",
        "\t- 18 is maxpool\n",
        "\t- 19 is conv4_1 (3, 3, 256, 512)\n",
        "\t- 20 is relu\n",
        "\t- 21 is conv4_2 (3, 3, 512, 512)\n",
        "\t- 22 is relu\n",
        "\t- 23 is conv4_3 (3, 3, 512, 512)\n",
        "\t- 24 is relu\n",
        "\t- 25 is conv4_4 (3, 3, 512, 512)\n",
        "\t- 26 is relu\n",
        "\t- 27 is maxpool\n",
        "\t- 28 is conv5_1 (3, 3, 512, 512)\n",
        "\t- 29 is relu\n",
        "\t- 30 is conv5_2 (3, 3, 512, 512)\n",
        "\t- 31 is relu\n",
        "\t- 32 is conv5_3 (3, 3, 512, 512)\n",
        "\t- 33 is relu\n",
        "\t- 34 is conv5_4 (3, 3, 512, 512)\n",
        "\t- 35 is relu\n",
        "\t- 36 is maxpool\n",
        "\t- 37 is fullyconnected (7, 7, 512, 4096)\n",
        "\t- 38 is relu\n",
        "\t- 39 is fullyconnected (1, 1, 4096, 4096)\n",
        "\t- 40 is relu\n",
        "\t- 41 is fullyconnected (1, 1, 4096, 1000)\n",
        "\t- 42 is softmax\n",
        "\t'''\n",
        "\tvgg = scipy.io.loadmat(path)\n",
        "\tvgg_layers = vgg['layers']\n",
        "\n",
        "\tdef _weights(layer, expected_layer_name):\n",
        "\t\tW = vgg_layers[0][layer][0][0][2][0][0]\n",
        "\t\tb = vgg_layers[0][layer][0][0][2][0][1]\n",
        "\t\tlayer_name = vgg_layers[0][layer][0][0][0][0]\n",
        "\t\tassert layer_name == expected_layer_name\n",
        "\t\treturn W, b\n",
        "\n",
        "\tdef _conv2d_relu(prev_layer, layer, layer_name):\n",
        "\t\tW, b = _weights(layer, layer_name)\n",
        "\t\tW = tf.constant(W)\n",
        "\t\tb = tf.constant(np.reshape(b, (b.size)))\n",
        "\t\treturn tf.nn.relu(tf.nn.conv2d(prev_layer, filter=W, strides=[1, 1, 1, 1], padding='SAME') + b)\n",
        "\n",
        "\tdef _avgpool(prev_layer):\n",
        "\t\treturn tf.nn.avg_pool(prev_layer, ksize=[1, 2, 2, 1], strides=[1, 2, 2, 1], padding='SAME')\n",
        "\n",
        "\tgraph = {}\n",
        "\tgraph['input']    = tf.Variable(np.zeros((1, IMAGE_H, IMAGE_W, COLOR_C)), dtype='float32')\n",
        "\tgraph['conv1_1']  = _conv2d_relu(graph['input'], 0, 'conv1_1')\n",
        "\tgraph['conv1_2']  = _conv2d_relu(graph['conv1_1'], 2, 'conv1_2')\n",
        "\tgraph['avgpool1'] = _avgpool(graph['conv1_2'])\n",
        "\tgraph['conv2_1']  = _conv2d_relu(graph['avgpool1'], 5, 'conv2_1')\n",
        "\tgraph['conv2_2']  = _conv2d_relu(graph['conv2_1'], 7, 'conv2_2')\n",
        "\tgraph['avgpool2'] = _avgpool(graph['conv2_2'])\n",
        "\tgraph['conv3_1']  = _conv2d_relu(graph['avgpool2'], 10, 'conv3_1')\n",
        "\tgraph['conv3_2']  = _conv2d_relu(graph['conv3_1'], 12, 'conv3_2')\n",
        "\tgraph['conv3_3']  = _conv2d_relu(graph['conv3_2'], 14, 'conv3_3')\n",
        "\tgraph['conv3_4']  = _conv2d_relu(graph['conv3_3'], 16, 'conv3_4')\n",
        "\tgraph['avgpool3'] = _avgpool(graph['conv3_4'])\n",
        "\tgraph['conv4_1']  = _conv2d_relu(graph['avgpool3'], 19, 'conv4_1')\n",
        "\tgraph['conv4_2']  = _conv2d_relu(graph['conv4_1'], 21, 'conv4_2')\n",
        "\tgraph['conv4_3']  = _conv2d_relu(graph['conv4_2'], 23, 'conv4_3')\n",
        "\tgraph['conv4_4']  = _conv2d_relu(graph['conv4_3'], 25, 'conv4_4')\n",
        "\tgraph['avgpool4'] = _avgpool(graph['conv4_4'])\n",
        "\tgraph['conv5_1']  = _conv2d_relu(graph['avgpool4'], 28, 'conv5_1')\n",
        "\tgraph['conv5_2']  = _conv2d_relu(graph['conv5_1'], 30, 'conv5_2')\n",
        "\tgraph['conv5_3']  = _conv2d_relu(graph['conv5_2'], 32, 'conv5_3')\n",
        "\tgraph['conv5_4']  = _conv2d_relu(graph['conv5_3'], 34, 'conv5_4')\n",
        "\tgraph['avgpool5'] = _avgpool(graph['conv5_4'])\n",
        "\treturn graph"
      ],
      "execution_count": 0,
      "outputs": []
    },
    {
      "metadata": {
        "id": "qfQS0kmeyz3q",
        "colab_type": "text"
      },
      "cell_type": "markdown",
      "source": [
        "## 内容损失函数"
      ]
    },
    {
      "metadata": {
        "id": "ueaSrEOBxeN5",
        "colab_type": "code",
        "colab": {}
      },
      "cell_type": "code",
      "source": [
        "def content_loss_func(sess, model):\n",
        "\tdef _content_loss(p, x):\n",
        "\t\tN = p.shape[3]\n",
        "\t\tM = p.shape[1] * p.shape[2]\n",
        "\t\treturn (1 / (4 * N * M)) * tf.reduce_sum(tf.pow(x - p, 2))\n",
        "\treturn _content_loss(sess.run(model['conv4_2']), model['conv4_2'])"
      ],
      "execution_count": 0,
      "outputs": []
    },
    {
      "metadata": {
        "id": "IFuS-lBRy4I3",
        "colab_type": "text"
      },
      "cell_type": "markdown",
      "source": [
        "## 风格损失函数"
      ]
    },
    {
      "metadata": {
        "id": "WYG3oMu1xhj8",
        "colab_type": "code",
        "colab": {}
      },
      "cell_type": "code",
      "source": [
        "STYLE_LAYERS = [('conv1_1', 0.5), ('conv2_1', 1.0), ('conv3_1', 1.5), ('conv4_1', 3.0), ('conv5_1', 4.0)]\n",
        "\n",
        "def style_loss_func(sess, model):\n",
        "\tdef _gram_matrix(F, N, M):\n",
        "\t\tFt = tf.reshape(F, (M, N))\n",
        "\t\treturn tf.matmul(tf.transpose(Ft), Ft)\n",
        "\n",
        "\tdef _style_loss(a, x):\n",
        "\t\tN = a.shape[3]\n",
        "\t\tM = a.shape[1] * a.shape[2]\n",
        "\t\tA = _gram_matrix(a, N, M)\n",
        "\t\tG = _gram_matrix(x, N, M)\n",
        "\t\treturn (1 / (4 * N ** 2 * M ** 2)) * tf.reduce_sum(tf.pow(G - A, 2))\n",
        "\n",
        "\treturn sum([_style_loss(sess.run(model[layer_name]), model[layer_name]) * w for layer_name, w in STYLE_LAYERS])"
      ],
      "execution_count": 0,
      "outputs": []
    },
    {
      "metadata": {
        "id": "_r8g3ve7y7ud",
        "colab_type": "text"
      },
      "cell_type": "markdown",
      "source": [
        "## 随机产生一张初始图片"
      ]
    },
    {
      "metadata": {
        "id": "2rzkrMUSxleo",
        "colab_type": "code",
        "colab": {}
      },
      "cell_type": "code",
      "source": [
        "def generate_noise_image(content_image, noise_ratio=NOISE_RATIO):\n",
        "\tnoise_image = np.random.uniform(-20, 20, (1, IMAGE_H, IMAGE_W, COLOR_C)).astype('float32')\n",
        "\tinput_image = noise_image * noise_ratio + content_image * (1 - noise_ratio)\n",
        "\treturn input_image"
      ],
      "execution_count": 0,
      "outputs": []
    },
    {
      "metadata": {
        "id": "-0xxmjDyy_Zt",
        "colab_type": "text"
      },
      "cell_type": "markdown",
      "source": [
        "## 加载图片"
      ]
    },
    {
      "metadata": {
        "id": "zXK-dfX1xpZo",
        "colab_type": "code",
        "colab": {}
      },
      "cell_type": "code",
      "source": [
        "def load_image(path):\n",
        "\timage = scipy.misc.imread(path)\n",
        "\timage = scipy.misc.imresize(image, (IMAGE_H, IMAGE_W))\n",
        "\timage = np.reshape(image, ((1, ) + image.shape))\n",
        "\timage = image - MEAN_VALUES\n",
        "\treturn image"
      ],
      "execution_count": 0,
      "outputs": []
    },
    {
      "metadata": {
        "id": "wUC-LEOMzBUb",
        "colab_type": "text"
      },
      "cell_type": "markdown",
      "source": [
        "## 保存图片"
      ]
    },
    {
      "metadata": {
        "id": "bnDb7tNMxtU-",
        "colab_type": "code",
        "colab": {}
      },
      "cell_type": "code",
      "source": [
        "def save_image(path, image):\n",
        "\timage = image + MEAN_VALUES\n",
        "\timage = image[0]\n",
        "\timage = np.clip(image, 0, 255).astype('uint8')\n",
        "\tscipy.misc.imsave(path, image)"
      ],
      "execution_count": 0,
      "outputs": []
    },
    {
      "metadata": {
        "id": "s0cg8HiizENf",
        "colab_type": "text"
      },
      "cell_type": "markdown",
      "source": [
        "#调用函数并训练模型"
      ]
    },
    {
      "metadata": {
        "id": "CiRaOlQDx0Hj",
        "colab_type": "code",
        "outputId": "79e04963-37e2-4d5b-9755-a1bd6563a88c",
        "colab": {
          "base_uri": "https://localhost:8080/",
          "height": 1320
        }
      },
      "cell_type": "code",
      "source": [
        "the_current_time()\n",
        "\n",
        "with tf.Session() as sess:\n",
        "\tcontent_image = load_image(CONTENT_IMG)\n",
        "\tstyle_image = load_image(STYLE_IMG)\n",
        "\tmodel = load_vgg_model(VGG_MODEL)\n",
        "\n",
        "\tinput_image = generate_noise_image(content_image)\n",
        "\tsess.run(tf.global_variables_initializer())\n",
        "\n",
        "\tsess.run(model['input'].assign(content_image))\n",
        "\tcontent_loss = content_loss_func(sess, model)\n",
        "\n",
        "\tsess.run(model['input'].assign(style_image))\n",
        "\tstyle_loss = style_loss_func(sess, model)\n",
        "\n",
        "\ttotal_loss = BETA * content_loss + ALPHA * style_loss\n",
        "\toptimizer = tf.train.AdamOptimizer(2.0)\n",
        "\ttrain = optimizer.minimize(total_loss)\n",
        "\n",
        "\tsess.run(tf.global_variables_initializer())\n",
        "\tsess.run(model['input'].assign(input_image))\n",
        "\n",
        "\tITERATIONS = 2000\n",
        "\tfor i in range(ITERATIONS):\n",
        "\t\tsess.run(train)\n",
        "\t\tif i % 100 == 0:\n",
        "\t\t\toutput_image = sess.run(model['input'])\n",
        "\t\t\tthe_current_time()\n",
        "\t\t\tprint('Iteration %d' % i)\n",
        "\t\t\tprint('Cost: ', sess.run(total_loss))\n",
        "\n",
        "\t\t\tsave_image(os.path.join(OUTPUT_DIR, 'output_%d.jpg' % i), output_image)"
      ],
      "execution_count": 14,
      "outputs": [
        {
          "output_type": "stream",
          "text": [
            "2019-03-17 06:17:45\n"
          ],
          "name": "stdout"
        },
        {
          "output_type": "stream",
          "text": [
            "/usr/local/lib/python3.6/dist-packages/ipykernel_launcher.py:2: DeprecationWarning: `imread` is deprecated!\n",
            "`imread` is deprecated in SciPy 1.0.0, and will be removed in 1.2.0.\n",
            "Use ``imageio.imread`` instead.\n",
            "  \n",
            "/usr/local/lib/python3.6/dist-packages/ipykernel_launcher.py:3: DeprecationWarning: `imresize` is deprecated!\n",
            "`imresize` is deprecated in SciPy 1.0.0, and will be removed in 1.2.0.\n",
            "Use ``skimage.transform.resize`` instead.\n",
            "  This is separate from the ipykernel package so we can avoid doing imports until\n"
          ],
          "name": "stderr"
        },
        {
          "output_type": "stream",
          "text": [
            "WARNING:tensorflow:From /usr/local/lib/python3.6/dist-packages/tensorflow/python/framework/op_def_library.py:263: colocate_with (from tensorflow.python.framework.ops) is deprecated and will be removed in a future version.\n",
            "Instructions for updating:\n",
            "Colocations handled automatically by placer.\n",
            "2019-03-17 06:18:18\n",
            "Iteration 0\n",
            "Cost:  33561506000.0\n"
          ],
          "name": "stdout"
        },
        {
          "output_type": "stream",
          "text": [
            "/usr/local/lib/python3.6/dist-packages/ipykernel_launcher.py:5: DeprecationWarning: `imsave` is deprecated!\n",
            "`imsave` is deprecated in SciPy 1.0.0, and will be removed in 1.2.0.\n",
            "Use ``imageio.imwrite`` instead.\n",
            "  \"\"\"\n"
          ],
          "name": "stderr"
        },
        {
          "output_type": "stream",
          "text": [
            "2019-03-17 06:19:14\n",
            "Iteration 100\n",
            "Cost:  692451100.0\n",
            "2019-03-17 06:20:05\n",
            "Iteration 200\n",
            "Cost:  328211420.0\n",
            "2019-03-17 06:20:56\n",
            "Iteration 300\n",
            "Cost:  198586430.0\n",
            "2019-03-17 06:21:47\n",
            "Iteration 400\n",
            "Cost:  137209390.0\n",
            "2019-03-17 06:22:37\n",
            "Iteration 500\n",
            "Cost:  104278500.0\n",
            "2019-03-17 06:23:28\n",
            "Iteration 600\n",
            "Cost:  79457720.0\n",
            "2019-03-17 06:24:23\n",
            "Iteration 700\n",
            "Cost:  64952164.0\n",
            "Cost:  68323270.0\n",
            "2019-03-17 06:26:05\n",
            "Iteration 900\n",
            "Cost:  47689676.0\n",
            "2019-03-17 06:26:56\n",
            "Iteration 1000\n",
            "Cost:  40413750.0\n",
            "2019-03-17 06:27:48\n",
            "Iteration 1100\n",
            "Cost:  36514748.0\n",
            "2019-03-17 06:28:39\n",
            "Iteration 1200\n",
            "Cost:  35066040.0\n",
            "2019-03-17 06:29:30\n",
            "Iteration 1300\n",
            "Cost:  29449144.0\n",
            "2019-03-17 06:30:20\n",
            "Iteration 1400\n",
            "Cost:  29726546.0\n",
            "2019-03-17 06:31:12\n",
            "Iteration 1500\n",
            "Cost:  23808296.0\n",
            "2019-03-17 06:32:03\n",
            "Iteration 1600\n",
            "Cost:  22782792.0\n",
            "2019-03-17 06:32:55\n",
            "Iteration 1700\n",
            "Cost:  27465776.0\n",
            "2019-03-17 06:33:46\n",
            "Iteration 1800\n",
            "Cost:  19094806.0\n",
            "2019-03-17 06:34:37\n",
            "Iteration 1900\n",
            "Cost:  281606700.0\n"
          ],
          "name": "stdout"
        }
      ]
    },
    {
      "metadata": {
        "id": "C4QoZkE8X9fU",
        "colab_type": "text"
      },
      "cell_type": "markdown",
      "source": [
        "## 生成gif"
      ]
    },
    {
      "metadata": {
        "id": "1Mv8oO2PbgLC",
        "colab_type": "code",
        "colab": {
          "base_uri": "https://localhost:8080/",
          "height": 156
        },
        "outputId": "810251c4-c92c-42c5-8e02-57da0a11ab1e"
      },
      "cell_type": "code",
      "source": [
        "!pip install images2gif"
      ],
      "execution_count": 16,
      "outputs": [
        {
          "output_type": "stream",
          "text": [
            "Collecting images2gif\n",
            "  Downloading https://files.pythonhosted.org/packages/d3/f9/4bd6d3dcf525cdbc7c0a4a15ab675edff81b6659dbd992abb5f5440c5c88/images2gif-1.0.1.tar.gz\n",
            "Building wheels for collected packages: images2gif\n",
            "  Building wheel for images2gif (setup.py) ... \u001b[?25ldone\n",
            "\u001b[?25h  Stored in directory: /root/.cache/pip/wheels/22/8b/00/f8921ab6e435461cbe545ea8de77acae0ad73c973e00a3497a\n",
            "Successfully built images2gif\n",
            "Installing collected packages: images2gif\n",
            "Successfully installed images2gif-1.0.1\n"
          ],
          "name": "stdout"
        }
      ]
    },
    {
      "metadata": {
        "id": "eMAUAIprdsWh",
        "colab_type": "code",
        "colab": {}
      },
      "cell_type": "code",
      "source": [
        "os.chdir(\"output\")"
      ],
      "execution_count": 0,
      "outputs": []
    },
    {
      "metadata": {
        "id": "IjCrFUUud0tF",
        "colab_type": "code",
        "colab": {
          "base_uri": "https://localhost:8080/",
          "height": 104
        },
        "outputId": "1a68b866-a5a0-497f-909b-ddcdc7813081"
      },
      "cell_type": "code",
      "source": [
        "!ls"
      ],
      "execution_count": 22,
      "outputs": [
        {
          "output_type": "stream",
          "text": [
            "output_0.jpg\t output_1300.jpg  output_1800.jpg  output_500.jpg\n",
            "output_1000.jpg  output_1400.jpg  output_1900.jpg  output_600.jpg\n",
            "output_100.jpg\t output_1500.jpg  output_200.jpg   output_700.jpg\n",
            "output_1100.jpg  output_1600.jpg  output_300.jpg   output_800.jpg\n",
            "output_1200.jpg  output_1700.jpg  output_400.jpg   output_900.jpg\n"
          ],
          "name": "stdout"
        }
      ]
    },
    {
      "metadata": {
        "id": "35bDVyCzX__j",
        "colab_type": "code",
        "colab": {}
      },
      "cell_type": "code",
      "source": [
        "import matplotlib.pyplot as plt\n",
        "import imageio,os\n",
        "images = []\n",
        "filenames=sorted((fn for fn in os.listdir('.') if fn.endswith('.jpg')))\n",
        "for filename in filenames:\n",
        "    images.append(imageio.imread(filename))\n",
        "imageio.mimsave('peony.gif', images,duration=0.5)"
      ],
      "execution_count": 0,
      "outputs": []
    }
  ]
}